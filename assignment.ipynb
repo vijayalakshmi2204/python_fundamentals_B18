{
 "cells": [
  {
   "cell_type": "code",
   "execution_count": null,
   "metadata": {},
   "outputs": [],
   "source": [
    "#function to print size and message in T-Shirt"
   ]
  },
  {
   "cell_type": "code",
   "execution_count": 1,
   "metadata": {},
   "outputs": [],
   "source": [
    "def make_shirt(shirt_size,msg_shirt):\n",
    "    \"\"\"Display size and message in shirt\"\"\"\n",
    "    print(f\"The size of shirt is {shirt_size}\\n\")\n",
    "    print(f\"The message printed in the shirt is {msg_shirt}\")"
   ]
  },
  {
   "cell_type": "code",
   "execution_count": 6,
   "metadata": {},
   "outputs": [
    {
     "name": "stdout",
     "output_type": "stream",
     "text": [
      "The size of shirt is medium\n",
      "\n",
      "The message printed in the shirt is GO CORONA GO\n"
     ]
    }
   ],
   "source": [
    "make_shirt('medium','GO CORONA GO')#positional arguments"
   ]
  },
  {
   "cell_type": "code",
   "execution_count": 8,
   "metadata": {},
   "outputs": [
    {
     "name": "stdout",
     "output_type": "stream",
     "text": [
      "The size of shirt is XXL\n",
      "\n",
      "The message printed in the shirt is MAINTAIN SOCIAL DISTANCING\n"
     ]
    }
   ],
   "source": [
    "make_shirt(shirt_size='XXL',msg_shirt='MAINTAIN SOCIAL DISTANCING')#keyword arguments"
   ]
  },
  {
   "cell_type": "code",
   "execution_count": 9,
   "metadata": {},
   "outputs": [
    {
     "name": "stdout",
     "output_type": "stream",
     "text": [
      "The size of shirt is L\n",
      "\n",
      "The message printed in the shirt is I LOVE PYTHON\n"
     ]
    }
   ],
   "source": [
    "make_shirt(shirt_size='L',msg_shirt='I LOVE PYTHON')"
   ]
  },
  {
   "cell_type": "code",
   "execution_count": 10,
   "metadata": {},
   "outputs": [],
   "source": [
    "def make_shirt(shirt_size,msg_shirt='I LOVE PYTHON'):\n",
    "    print(f\"The size of shirt is {shirt_size}\\n\")\n",
    "    print(f\"The message printed in the shirt is {msg_shirt}\")\n",
    "    "
   ]
  },
  {
   "cell_type": "code",
   "execution_count": 11,
   "metadata": {},
   "outputs": [
    {
     "name": "stdout",
     "output_type": "stream",
     "text": [
      "The size of shirt is L\n",
      "\n",
      "The message printed in the shirt is I LOVE PYTHON\n"
     ]
    }
   ],
   "source": [
    "make_shirt('L')"
   ]
  },
  {
   "cell_type": "code",
   "execution_count": 12,
   "metadata": {},
   "outputs": [
    {
     "name": "stdout",
     "output_type": "stream",
     "text": [
      "The size of shirt is M\n",
      "\n",
      "The message printed in the shirt is I LOVE PYTHON\n"
     ]
    }
   ],
   "source": [
    "make_shirt('M')"
   ]
  },
  {
   "cell_type": "code",
   "execution_count": null,
   "metadata": {},
   "outputs": [],
   "source": [
    "#2 printing name of city and country"
   ]
  },
  {
   "cell_type": "code",
   "execution_count": 17,
   "metadata": {},
   "outputs": [],
   "source": [
    "def describe_city(city,country):\n",
    "    print(f\"{city} is in {country}\")"
   ]
  },
  {
   "cell_type": "code",
   "execution_count": 18,
   "metadata": {},
   "outputs": [
    {
     "name": "stdout",
     "output_type": "stream",
     "text": [
      "Sandiego is in USA\n"
     ]
    }
   ],
   "source": [
    "describe_city('Sandiego','USA')"
   ]
  },
  {
   "cell_type": "code",
   "execution_count": 19,
   "metadata": {},
   "outputs": [
    {
     "name": "stdout",
     "output_type": "stream",
     "text": [
      "Reykjavik is in Iceland\n"
     ]
    }
   ],
   "source": [
    "describe_city('Reykjavik','Iceland')"
   ]
  },
  {
   "cell_type": "code",
   "execution_count": 20,
   "metadata": {},
   "outputs": [],
   "source": [
    "def describe_city(city,country='USA'):\n",
    "    print(f\"{city} is in {country}\")"
   ]
  },
  {
   "cell_type": "code",
   "execution_count": 21,
   "metadata": {},
   "outputs": [
    {
     "name": "stdout",
     "output_type": "stream",
     "text": [
      "Sandiego is in USA\n"
     ]
    }
   ],
   "source": [
    "describe_city('Sandiego')"
   ]
  },
  {
   "cell_type": "code",
   "execution_count": 22,
   "metadata": {},
   "outputs": [
    {
     "name": "stdout",
     "output_type": "stream",
     "text": [
      "SanFransisco is in USA\n"
     ]
    }
   ],
   "source": [
    "describe_city('SanFransisco')"
   ]
  },
  {
   "cell_type": "code",
   "execution_count": 23,
   "metadata": {},
   "outputs": [
    {
     "name": "stdout",
     "output_type": "stream",
     "text": [
      "SantaClara is in USA\n"
     ]
    }
   ],
   "source": [
    "describe_city('SantaClara')"
   ]
  },
  {
   "cell_type": "code",
   "execution_count": null,
   "metadata": {},
   "outputs": [],
   "source": []
  }
 ],
 "metadata": {
  "kernelspec": {
   "display_name": "Python 3",
   "language": "python",
   "name": "python3"
  },
  "language_info": {
   "codemirror_mode": {
    "name": "ipython",
    "version": 3
   },
   "file_extension": ".py",
   "mimetype": "text/x-python",
   "name": "python",
   "nbconvert_exporter": "python",
   "pygments_lexer": "ipython3",
   "version": "3.7.6"
  }
 },
 "nbformat": 4,
 "nbformat_minor": 4
}
