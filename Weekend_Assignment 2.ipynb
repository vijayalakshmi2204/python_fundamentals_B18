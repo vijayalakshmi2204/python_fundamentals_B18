{
 "cells": [
  {
   "cell_type": "code",
   "execution_count": null,
   "metadata": {},
   "outputs": [],
   "source": [
    "Activity1:\n"
   ]
  },
  {
   "cell_type": "code",
   "execution_count": 49,
   "metadata": {},
   "outputs": [],
   "source": [
    "class Restaurent:\n",
    "    def __init__(self,res_name,cuis_type):\n",
    "        self.name=res_name\n",
    "        self.type=cuis_type\n",
    "        \n",
    "    def describe_restaurent(self):\n",
    "        print(f\"The restaurent name is {self.name.upper()}\")\n",
    "        print(f\"The cuisine type is {self.type.title()}\")\n",
    "    def open_restaurent(self):\n",
    "        print(f\"The restaurent {self.name.upper()} is open now\")    "
   ]
  },
  {
   "cell_type": "code",
   "execution_count": 51,
   "metadata": {},
   "outputs": [],
   "source": [
    "resobj=Restaurent('paradise biriyani','indian')"
   ]
  },
  {
   "cell_type": "code",
   "execution_count": 52,
   "metadata": {},
   "outputs": [
    {
     "name": "stdout",
     "output_type": "stream",
     "text": [
      "The restaurent name is PARADISE BIRIYANI\n",
      "The cuisine type is Indian\n"
     ]
    }
   ],
   "source": [
    "resobj.describe_restaurent()"
   ]
  },
  {
   "cell_type": "code",
   "execution_count": 53,
   "metadata": {},
   "outputs": [
    {
     "name": "stdout",
     "output_type": "stream",
     "text": [
      "The restaurent PARADISE BIRIYANI is open now\n"
     ]
    }
   ],
   "source": [
    "resobj.open_restaurent()"
   ]
  },
  {
   "cell_type": "code",
   "execution_count": null,
   "metadata": {},
   "outputs": [],
   "source": [
    "Activity2:\n"
   ]
  },
  {
   "cell_type": "code",
   "execution_count": 71,
   "metadata": {},
   "outputs": [],
   "source": [
    "class IceCreamStand(Restaurent):\n",
    "    def __init__(self,res_name,cuis_type,flavours):\n",
    "        self.flavours=flavours\n",
    "        Restaurent.__init__(self,res_name,cuis_type)\n",
    "    def dispflavours(self):\n",
    "        print(self.flavours)"
   ]
  },
  {
   "cell_type": "code",
   "execution_count": 73,
   "metadata": {},
   "outputs": [],
   "source": [
    "iceobj=IceCreamStand('biriyani king','indian',['vanilla','chocolate','butterscotch'])"
   ]
  },
  {
   "cell_type": "code",
   "execution_count": 68,
   "metadata": {},
   "outputs": [
    {
     "name": "stdout",
     "output_type": "stream",
     "text": [
      "['vanilla', 'chocolate', 'butterscotch']\n"
     ]
    }
   ],
   "source": [
    "iceobj.dispflavours()"
   ]
  },
  {
   "cell_type": "code",
   "execution_count": 74,
   "metadata": {},
   "outputs": [
    {
     "name": "stdout",
     "output_type": "stream",
     "text": [
      "The restaurent name is BIRIYANI KING\n",
      "The cuisine type is Indian\n"
     ]
    }
   ],
   "source": [
    "iceobj.describe_restaurent()"
   ]
  },
  {
   "cell_type": "code",
   "execution_count": null,
   "metadata": {},
   "outputs": [],
   "source": []
  }
 ],
 "metadata": {
  "kernelspec": {
   "display_name": "Python 3",
   "language": "python",
   "name": "python3"
  },
  "language_info": {
   "codemirror_mode": {
    "name": "ipython",
    "version": 3
   },
   "file_extension": ".py",
   "mimetype": "text/x-python",
   "name": "python",
   "nbconvert_exporter": "python",
   "pygments_lexer": "ipython3",
   "version": "3.7.6"
  }
 },
 "nbformat": 4,
 "nbformat_minor": 4
}
