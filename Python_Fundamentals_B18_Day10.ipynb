{
 "cells": [
  {
   "cell_type": "code",
   "execution_count": null,
   "metadata": {},
   "outputs": [],
   "source": [
    "Defining a dictionary in 3 ways"
   ]
  },
  {
   "cell_type": "code",
   "execution_count": 2,
   "metadata": {},
   "outputs": [
    {
     "name": "stdout",
     "output_type": "stream",
     "text": [
      "{'name': 'xxx', 'age': 20, 'qualification': 'M.E', 'profession': 'Software engineer', 'experience': 3}\n"
     ]
    }
   ],
   "source": [
    "#1\n",
    "dict1={'name':'xxx',\n",
    "       'age':20,\n",
    "       'qualification':'M.E',\n",
    "       'profession':'Software engineer',\n",
    "       'experience':3\n",
    "      }\n",
    "print(dict1)"
   ]
  },
  {
   "cell_type": "code",
   "execution_count": 7,
   "metadata": {},
   "outputs": [
    {
     "name": "stdout",
     "output_type": "stream",
     "text": [
      "{'name': 'yyy', 'age': 20, 'qualification': 'M.E', 'profession': 'Software engineer', 'experience': 3}\n"
     ]
    }
   ],
   "source": [
    "#2 using dict function to define a dictionary\n",
    "x=dict([\n",
    "     ('name','yyy'),\n",
    "       ('age',20),\n",
    "       ('qualification','M.E'),\n",
    "       ('profession','Software engineer'),\n",
    "       ('experience',3)])\n",
    "print(x)"
   ]
  },
  {
   "cell_type": "code",
   "execution_count": 8,
   "metadata": {},
   "outputs": [
    {
     "name": "stdout",
     "output_type": "stream",
     "text": [
      "{'name': 'xxx', 'age': 20, 'qualification': 'M.E', 'profession': 'Software engineer', 'experience': 3}\n"
     ]
    }
   ],
   "source": [
    "#3 \n",
    "y=dict(\n",
    "        name='xxx',\n",
    "        age=20,\n",
    "       qualification='M.E',\n",
    "       profession='Software engineer',\n",
    "       experience=3)\n",
    "print(y)"
   ]
  },
  {
   "cell_type": "code",
   "execution_count": 11,
   "metadata": {},
   "outputs": [],
   "source": [
    "y['name']='zzz'"
   ]
  },
  {
   "cell_type": "code",
   "execution_count": 12,
   "metadata": {},
   "outputs": [
    {
     "name": "stdout",
     "output_type": "stream",
     "text": [
      "zzz\n"
     ]
    }
   ],
   "source": [
    "print(y['name'])"
   ]
  },
  {
   "cell_type": "code",
   "execution_count": 13,
   "metadata": {},
   "outputs": [
    {
     "data": {
      "text/plain": [
       "{'name': 'zzz',\n",
       " 'age': 20,\n",
       " 'qualification': 'M.E',\n",
       " 'profession': 'Software engineer',\n",
       " 'experience': 3}"
      ]
     },
     "execution_count": 13,
     "metadata": {},
     "output_type": "execute_result"
    }
   ],
   "source": [
    "y"
   ]
  },
  {
   "cell_type": "code",
   "execution_count": null,
   "metadata": {},
   "outputs": [],
   "source": [
    "Looping through dictionary"
   ]
  },
  {
   "cell_type": "code",
   "execution_count": 16,
   "metadata": {},
   "outputs": [
    {
     "name": "stdout",
     "output_type": "stream",
     "text": [
      "key:name\n",
      "value:zzz\n",
      "\n",
      "key:age\n",
      "value:20\n",
      "\n",
      "key:qualification\n",
      "value:M.E\n",
      "\n",
      "key:profession\n",
      "value:Software engineer\n",
      "\n",
      "key:experience\n",
      "value:3\n",
      "\n"
     ]
    }
   ],
   "source": [
    "for a,b in y.items():\n",
    "    print(f\"key:{a}\")\n",
    "    print(f\"value:{b}\\n\")\n",
    "          "
   ]
  },
  {
   "cell_type": "code",
   "execution_count": null,
   "metadata": {},
   "outputs": [],
   "source": [
    "access only keys"
   ]
  },
  {
   "cell_type": "code",
   "execution_count": 22,
   "metadata": {
    "scrolled": true
   },
   "outputs": [
    {
     "name": "stdout",
     "output_type": "stream",
     "text": [
      "name\n",
      "age\n",
      "qualification\n",
      "profession\n",
      "experience\n"
     ]
    }
   ],
   "source": [
    "for a in y.keys():\n",
    "    print(a)\n",
    "    "
   ]
  },
  {
   "cell_type": "code",
   "execution_count": null,
   "metadata": {},
   "outputs": [],
   "source": [
    "access only values"
   ]
  },
  {
   "cell_type": "code",
   "execution_count": 23,
   "metadata": {},
   "outputs": [
    {
     "name": "stdout",
     "output_type": "stream",
     "text": [
      "zzz\n",
      "20\n",
      "M.E\n",
      "Software engineer\n",
      "3\n"
     ]
    }
   ],
   "source": [
    "for b in y.values():\n",
    "    print(b)"
   ]
  },
  {
   "cell_type": "code",
   "execution_count": null,
   "metadata": {},
   "outputs": [],
   "source": [
    "survey:student and favorite language using dictionary"
   ]
  },
  {
   "cell_type": "code",
   "execution_count": 1,
   "metadata": {},
   "outputs": [
    {
     "name": "stdout",
     "output_type": "stream",
     "text": [
      "{'faiyaz': 'pyhton', 'devi': 'c', 'kadhir': 'csharp', 'prakash': 'c++'}\n"
     ]
    }
   ],
   "source": [
    "student_lang={'faiyaz':'pyhton','devi':'c','kadhir':'csharp','prakash':'c++'}\n",
    "print(student_lang)"
   ]
  },
  {
   "cell_type": "code",
   "execution_count": 3,
   "metadata": {},
   "outputs": [
    {
     "name": "stdout",
     "output_type": "stream",
     "text": [
      "favorite language of Faiyaz is Pyhton\n",
      "favorite language of Devi is C\n",
      "favorite language of Kadhir is Csharp\n",
      "favorite language of Prakash is C++\n"
     ]
    }
   ],
   "source": [
    "for name,lang in student_lang.items():\n",
    "    print(f\"favorite language of {name.title()} is {lang.title()}\")"
   ]
  },
  {
   "cell_type": "code",
   "execution_count": null,
   "metadata": {},
   "outputs": [],
   "source": []
  },
  {
   "cell_type": "code",
   "execution_count": null,
   "metadata": {},
   "outputs": [],
   "source": []
  },
  {
   "cell_type": "code",
   "execution_count": null,
   "metadata": {},
   "outputs": [],
   "source": []
  }
 ],
 "metadata": {
  "kernelspec": {
   "display_name": "Python 3",
   "language": "python",
   "name": "python3"
  },
  "language_info": {
   "codemirror_mode": {
    "name": "ipython",
    "version": 3
   },
   "file_extension": ".py",
   "mimetype": "text/x-python",
   "name": "python",
   "nbconvert_exporter": "python",
   "pygments_lexer": "ipython3",
   "version": "3.7.6"
  }
 },
 "nbformat": 4,
 "nbformat_minor": 4
}
