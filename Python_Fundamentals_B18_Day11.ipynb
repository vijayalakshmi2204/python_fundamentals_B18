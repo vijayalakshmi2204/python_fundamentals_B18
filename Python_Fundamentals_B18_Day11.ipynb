{
 "cells": [
  {
   "cell_type": "code",
   "execution_count": null,
   "metadata": {},
   "outputs": [],
   "source": [
    "Introduction to while loop"
   ]
  },
  {
   "cell_type": "code",
   "execution_count": null,
   "metadata": {},
   "outputs": [],
   "source": [
    "#Sum of n numners"
   ]
  },
  {
   "cell_type": "code",
   "execution_count": 1,
   "metadata": {},
   "outputs": [
    {
     "name": "stdout",
     "output_type": "stream",
     "text": [
      "90\n"
     ]
    }
   ],
   "source": [
    "i=0\n",
    "total=0\n",
    "while i<20:\n",
    "    total=total+i\n",
    "    i=i+2\n",
    "    \n",
    "print(total)\n"
   ]
  },
  {
   "cell_type": "code",
   "execution_count": null,
   "metadata": {},
   "outputs": [],
   "source": [
    "#print numbers in a loop"
   ]
  },
  {
   "cell_type": "code",
   "execution_count": 3,
   "metadata": {},
   "outputs": [
    {
     "name": "stdout",
     "output_type": "stream",
     "text": [
      "0\n",
      "1\n",
      "2\n",
      "3\n",
      "4\n"
     ]
    }
   ],
   "source": [
    "a=0\n",
    "while a<5:\n",
    "    print(a)\n",
    "    a=a+1"
   ]
  },
  {
   "cell_type": "code",
   "execution_count": 4,
   "metadata": {},
   "outputs": [
    {
     "name": "stdout",
     "output_type": "stream",
     "text": [
      "Tell me something i will repeat it for u\n",
      "Enter quit to end programhello, welcome to python\n",
      "hello, welcome to python\n",
      "Tell me something i will repeat it for u\n",
      "Enter quit to end programtoday is the first class\n",
      "today is the first class\n",
      "Tell me something i will repeat it for u\n",
      "Enter quit to end programquit\n",
      "quit\n"
     ]
    }
   ],
   "source": [
    "prompt=\"Tell me something i will repeat it for u\\n\"\n",
    "prompt+=\"Enter quit to end program\"\n",
    "message=\" \"\n",
    "while message!='quit':\n",
    "    message=input(prompt)\n",
    "    print(message)"
   ]
  },
  {
   "cell_type": "code",
   "execution_count": null,
   "metadata": {},
   "outputs": [],
   "source": [
    "while using else"
   ]
  },
  {
   "cell_type": "code",
   "execution_count": 5,
   "metadata": {},
   "outputs": [
    {
     "name": "stdout",
     "output_type": "stream",
     "text": [
      "count is 1\n",
      "count is 2\n",
      "count is 3\n",
      "count is more than three\n"
     ]
    }
   ],
   "source": [
    "count=1\n",
    "while count<=3:\n",
    "    print(f\"count is {count}\")\n",
    "    count=count+1\n",
    "else:\n",
    "    print(\"count is more than three\")\n",
    "    "
   ]
  },
  {
   "cell_type": "code",
   "execution_count": null,
   "metadata": {},
   "outputs": [],
   "source": []
  },
  {
   "cell_type": "code",
   "execution_count": 7,
   "metadata": {},
   "outputs": [
    {
     "name": "stdout",
     "output_type": "stream",
     "text": [
      "please enter the count 2\n",
      "Please go to counter 2\n",
      "\n",
      "please enter the count 3\n",
      "Please go to counter 3\n",
      "\n",
      "please enter the count 0\n"
     ]
    }
   ],
   "source": [
    "count=\"please enter the count \"\n",
    "counter=int(input(count))\n",
    "\n",
    "while counter!=0:\n",
    "    print(f\"Please go to counter {counter}\\n\")\n",
    "    counter=int(input(count))\n",
    "\n",
    "          "
   ]
  },
  {
   "cell_type": "code",
   "execution_count": null,
   "metadata": {},
   "outputs": [],
   "source": []
  },
  {
   "cell_type": "code",
   "execution_count": null,
   "metadata": {},
   "outputs": [],
   "source": [
    "#Using break in while loop"
   ]
  },
  {
   "cell_type": "code",
   "execution_count": null,
   "metadata": {},
   "outputs": [],
   "source": [
    "prom=\"Please enter your favourite country\\n\"\n",
    "prom+=\"Enter quit to stop\""
   ]
  },
  {
   "cell_type": "code",
   "execution_count": 8,
   "metadata": {},
   "outputs": [
    {
     "ename": "NameError",
     "evalue": "name 'prom' is not defined",
     "output_type": "error",
     "traceback": [
      "\u001b[1;31m---------------------------------------------------------------------------\u001b[0m",
      "\u001b[1;31mNameError\u001b[0m                                 Traceback (most recent call last)",
      "\u001b[1;32m<ipython-input-8-d4790c6cabe0>\u001b[0m in \u001b[0;36m<module>\u001b[1;34m\u001b[0m\n\u001b[0;32m      1\u001b[0m \u001b[1;32mwhile\u001b[0m \u001b[1;32mTrue\u001b[0m\u001b[1;33m:\u001b[0m\u001b[1;33m\u001b[0m\u001b[1;33m\u001b[0m\u001b[0m\n\u001b[1;32m----> 2\u001b[1;33m     \u001b[0mcountry\u001b[0m\u001b[1;33m=\u001b[0m\u001b[0minput\u001b[0m\u001b[1;33m(\u001b[0m\u001b[0mprom\u001b[0m\u001b[1;33m)\u001b[0m\u001b[1;33m\u001b[0m\u001b[1;33m\u001b[0m\u001b[0m\n\u001b[0m\u001b[0;32m      3\u001b[0m     \u001b[1;32mif\u001b[0m \u001b[0mcountry\u001b[0m\u001b[1;33m==\u001b[0m\u001b[1;34m'quit'\u001b[0m\u001b[1;33m:\u001b[0m\u001b[1;33m\u001b[0m\u001b[1;33m\u001b[0m\u001b[0m\n\u001b[0;32m      4\u001b[0m         \u001b[1;32mbreak\u001b[0m\u001b[1;33m\u001b[0m\u001b[1;33m\u001b[0m\u001b[0m\n\u001b[0;32m      5\u001b[0m     \u001b[1;32melse\u001b[0m\u001b[1;33m:\u001b[0m\u001b[1;33m\u001b[0m\u001b[1;33m\u001b[0m\u001b[0m\n",
      "\u001b[1;31mNameError\u001b[0m: name 'prom' is not defined"
     ]
    }
   ],
   "source": [
    "while True:\n",
    "    country=input(prom)\n",
    "    if country=='quit':\n",
    "        break\n",
    "    else:\n",
    "        print(f\"Your favourite country is {country.title()}\")"
   ]
  },
  {
   "cell_type": "code",
   "execution_count": 9,
   "metadata": {},
   "outputs": [
    {
     "name": "stdout",
     "output_type": "stream",
     "text": [
      "Please enter your favourite country\n",
      "Enter quit to stopaustralia\n",
      "Your favourite country is Australia\n",
      "Please enter your favourite country\n",
      "Enter quit to stopcanada\n",
      "Your favourite country is Canada\n",
      "Please enter your favourite country\n",
      "Enter quit to stopstop\n",
      "Your favourite country is Stop\n",
      "Please enter your favourite country\n",
      "Enter quit to stopquit\n"
     ]
    }
   ],
   "source": [
    "prom=\"Please enter your favourite country\\n\"\n",
    "prom+=\"Enter quit to stop\"\n",
    "while True:\n",
    "    country=input(prom)\n",
    "    if country=='quit':\n",
    "        break\n",
    "    else:\n",
    "        print(f\"Your favourite country is {country.title()}\")"
   ]
  },
  {
   "cell_type": "code",
   "execution_count": null,
   "metadata": {},
   "outputs": [],
   "source": []
  }
 ],
 "metadata": {
  "kernelspec": {
   "display_name": "Python 3",
   "language": "python",
   "name": "python3"
  },
  "language_info": {
   "codemirror_mode": {
    "name": "ipython",
    "version": 3
   },
   "file_extension": ".py",
   "mimetype": "text/x-python",
   "name": "python",
   "nbconvert_exporter": "python",
   "pygments_lexer": "ipython3",
   "version": "3.7.6"
  }
 },
 "nbformat": 4,
 "nbformat_minor": 4
}
