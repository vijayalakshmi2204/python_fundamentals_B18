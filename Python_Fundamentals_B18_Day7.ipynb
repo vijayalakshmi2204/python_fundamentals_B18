{
 "cells": [
  {
   "cell_type": "code",
   "execution_count": null,
   "metadata": {},
   "outputs": [],
   "source": [
    "Understanding the user accepted input:"
   ]
  },
  {
   "cell_type": "code",
   "execution_count": 1,
   "metadata": {},
   "outputs": [
    {
     "name": "stdout",
     "output_type": "stream",
     "text": [
      "Enter the message:corona is a pandemic disease\n",
      "corona is a pandemic disease\n"
     ]
    }
   ],
   "source": [
    "message=input(\"Enter the message:\")\n",
    "print(message)"
   ]
  },
  {
   "cell_type": "code",
   "execution_count": null,
   "metadata": {},
   "outputs": [],
   "source": [
    "Enhancement of the code"
   ]
  },
  {
   "cell_type": "code",
   "execution_count": 2,
   "metadata": {},
   "outputs": [
    {
     "name": "stdout",
     "output_type": "stream",
     "text": [
      "Enter your namevijayalakshmi\n",
      "your name vijayalakshmi has been registered\n"
     ]
    }
   ],
   "source": [
    "name=input(\"Enter your name\")\n",
    "print(f\"your name {name} has been registered\")\n"
   ]
  },
  {
   "cell_type": "code",
   "execution_count": null,
   "metadata": {},
   "outputs": [],
   "source": [
    "further enhancement"
   ]
  },
  {
   "cell_type": "code",
   "execution_count": 3,
   "metadata": {},
   "outputs": [
    {
     "name": "stdout",
     "output_type": "stream",
     "text": [
      "your name Vijayalakshmi has been registered\n"
     ]
    }
   ],
   "source": [
    "print(f\"your name {name.title()} has been registered\")\n"
   ]
  },
  {
   "cell_type": "code",
   "execution_count": null,
   "metadata": {},
   "outputs": [],
   "source": [
    "By default input method takes input as string"
   ]
  },
  {
   "cell_type": "code",
   "execution_count": 5,
   "metadata": {},
   "outputs": [
    {
     "name": "stdout",
     "output_type": "stream",
     "text": [
      "Enter ur age:23\n"
     ]
    },
    {
     "ename": "TypeError",
     "evalue": "'>' not supported between instances of 'str' and 'int'",
     "output_type": "error",
     "traceback": [
      "\u001b[1;31m---------------------------------------------------------------------------\u001b[0m",
      "\u001b[1;31mTypeError\u001b[0m                                 Traceback (most recent call last)",
      "\u001b[1;32m<ipython-input-5-1f7985107a65>\u001b[0m in \u001b[0;36m<module>\u001b[1;34m\u001b[0m\n\u001b[0;32m      1\u001b[0m \u001b[0mage\u001b[0m\u001b[1;33m=\u001b[0m\u001b[0minput\u001b[0m\u001b[1;33m(\u001b[0m\u001b[1;34m\"Enter ur age:\"\u001b[0m\u001b[1;33m)\u001b[0m\u001b[1;33m\u001b[0m\u001b[1;33m\u001b[0m\u001b[0m\n\u001b[1;32m----> 2\u001b[1;33m \u001b[1;32mif\u001b[0m \u001b[0mage\u001b[0m\u001b[1;33m>\u001b[0m\u001b[1;36m18\u001b[0m\u001b[1;33m:\u001b[0m\u001b[1;33m\u001b[0m\u001b[1;33m\u001b[0m\u001b[0m\n\u001b[0m\u001b[0;32m      3\u001b[0m     \u001b[0mprint\u001b[0m\u001b[1;33m(\u001b[0m\u001b[1;34m\"U are eligible to vote\"\u001b[0m\u001b[1;33m)\u001b[0m\u001b[1;33m\u001b[0m\u001b[1;33m\u001b[0m\u001b[0m\n\u001b[0;32m      4\u001b[0m \u001b[1;32melse\u001b[0m\u001b[1;33m:\u001b[0m\u001b[1;33m\u001b[0m\u001b[1;33m\u001b[0m\u001b[0m\n\u001b[0;32m      5\u001b[0m         \u001b[0mprint\u001b[0m\u001b[1;33m(\u001b[0m\u001b[1;34m\"U are not eligible to vote\"\u001b[0m\u001b[1;33m)\u001b[0m\u001b[1;33m\u001b[0m\u001b[1;33m\u001b[0m\u001b[0m\n",
      "\u001b[1;31mTypeError\u001b[0m: '>' not supported between instances of 'str' and 'int'"
     ]
    }
   ],
   "source": [
    "age=input(\"Enter ur age:\")\n",
    "if age>18:\n",
    "    print(\"U are eligible to vote\")\n",
    "else:\n",
    "        print(\"U are not eligible to vote\")\n"
   ]
  },
  {
   "cell_type": "code",
   "execution_count": null,
   "metadata": {},
   "outputs": [],
   "source": [
    "so we need typecasting to change one datatype to another"
   ]
  },
  {
   "cell_type": "code",
   "execution_count": 1,
   "metadata": {},
   "outputs": [
    {
     "name": "stdout",
     "output_type": "stream",
     "text": [
      "Enter ur age:23\n",
      "U are eligible to vote\n",
      "please register your name\n"
     ]
    }
   ],
   "source": [
    "age=input(\"Enter ur age:\")\n",
    "age=int(age)\n",
    "if age>18:\n",
    "    print(\"U are eligible to vote\")\n",
    "    print(\"please register your name\" )\n",
    "\n",
    "else:\n",
    "        print(\"U are not eligible to vote\")\n",
    "        print(\"Please try again later\")\n"
   ]
  },
  {
   "cell_type": "code",
   "execution_count": 6,
   "metadata": {},
   "outputs": [
    {
     "name": "stdout",
     "output_type": "stream",
     "text": [
      "Enter ur age:20\n",
      "U are eligible to vote\n",
      "please register your name: dakshin\n",
      "Your name Dakshin has been registered\n"
     ]
    }
   ],
   "source": [
    "\n",
    "age=input(\"Enter ur age:\")\n",
    "age=int(age)\n",
    "if age>18:\n",
    "    print(\"U are eligible to vote\")\n",
    "    name=input(\"please register your name: \" )\n",
    "    print(f\"Your name {name.title()} has been registered\")\n",
    "\n",
    "else:\n",
    "        print(\"U are not eligible to vote\")\n",
    "        print(\"Please try again later\")\n"
   ]
  },
  {
   "cell_type": "code",
   "execution_count": null,
   "metadata": {},
   "outputs": [],
   "source": [
    "calculate the area of triangle"
   ]
  },
  {
   "cell_type": "code",
   "execution_count": 12,
   "metadata": {},
   "outputs": [
    {
     "name": "stdout",
     "output_type": "stream",
     "text": [
      "enter the base of triangle:12\n",
      "enter the height of triangle:7\n",
      "42\n"
     ]
    }
   ],
   "source": [
    "base=input(\"enter the base of triangle:\")\n",
    "base=int(base)\n",
    "height=input(\"enter the height of triangle:\")\n",
    "height=int(height)\n",
    "area=(0.5*base*height)\n",
    "area=int(area)\n",
    "print(area)"
   ]
  },
  {
   "cell_type": "code",
   "execution_count": 13,
   "metadata": {},
   "outputs": [
    {
     "name": "stdout",
     "output_type": "stream",
     "text": [
      "enter the base of triangle:12\n",
      "enter the height of triangle:7\n",
      "area of triangle=42cm\n"
     ]
    }
   ],
   "source": [
    "base=input(\"enter the base of triangle:\")\n",
    "base=int(base)\n",
    "height=input(\"enter the height of triangle:\")\n",
    "height=int(height)\n",
    "area=(0.5*base*height)\n",
    "area=int(area)\n",
    "print(f\"area of triangle={area}cm\")"
   ]
  }
 ],
 "metadata": {
  "kernelspec": {
   "display_name": "Python 3",
   "language": "python",
   "name": "python3"
  },
  "language_info": {
   "codemirror_mode": {
    "name": "ipython",
    "version": 3
   },
   "file_extension": ".py",
   "mimetype": "text/x-python",
   "name": "python",
   "nbconvert_exporter": "python",
   "pygments_lexer": "ipython3",
   "version": "3.7.6"
  }
 },
 "nbformat": 4,
 "nbformat_minor": 4
}
