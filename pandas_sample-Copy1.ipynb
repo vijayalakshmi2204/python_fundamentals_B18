{
 "cells": [
  {
   "cell_type": "code",
   "execution_count": 2,
   "id": "a7f8fdab",
   "metadata": {},
   "outputs": [],
   "source": [
    "import numpy as np"
   ]
  },
  {
   "cell_type": "code",
   "execution_count": 3,
   "id": "ff8b79f2",
   "metadata": {},
   "outputs": [],
   "source": [
    "import pandas as pd"
   ]
  },
  {
   "cell_type": "code",
   "execution_count": 4,
   "id": "407722bf",
   "metadata": {},
   "outputs": [
    {
     "data": {
      "text/plain": [
       "'2.2.2'"
      ]
     },
     "execution_count": 4,
     "metadata": {},
     "output_type": "execute_result"
    }
   ],
   "source": [
    "pd.__version__"
   ]
  },
  {
   "cell_type": "code",
   "execution_count": 5,
   "id": "e90baf86",
   "metadata": {},
   "outputs": [],
   "source": [
    "animals=['cat','dog','squirrel','rabbit']"
   ]
  },
  {
   "cell_type": "code",
   "execution_count": 7,
   "id": "067003e1",
   "metadata": {},
   "outputs": [],
   "source": [
    "anim=pd.Series(animals)"
   ]
  },
  {
   "cell_type": "code",
   "execution_count": 8,
   "id": "e2afb09b",
   "metadata": {},
   "outputs": [
    {
     "data": {
      "text/plain": [
       "0         cat\n",
       "1         dog\n",
       "2    squirrel\n",
       "3      rabbit\n",
       "dtype: object"
      ]
     },
     "execution_count": 8,
     "metadata": {},
     "output_type": "execute_result"
    }
   ],
   "source": [
    "anim"
   ]
  },
  {
   "cell_type": "code",
   "execution_count": 9,
   "id": "f4ffd069",
   "metadata": {},
   "outputs": [
    {
     "data": {
      "text/plain": [
       "pandas.core.series.Series"
      ]
     },
     "execution_count": 9,
     "metadata": {},
     "output_type": "execute_result"
    }
   ],
   "source": [
    "type(anim)"
   ]
  },
  {
   "cell_type": "code",
   "execution_count": 10,
   "id": "a8dd75f5",
   "metadata": {},
   "outputs": [
    {
     "data": {
      "text/plain": [
       "list"
      ]
     },
     "execution_count": 10,
     "metadata": {},
     "output_type": "execute_result"
    }
   ],
   "source": [
    "type(animals)"
   ]
  },
  {
   "cell_type": "code",
   "execution_count": 11,
   "id": "3f21b044",
   "metadata": {},
   "outputs": [
    {
     "name": "stdout",
     "output_type": "stream",
     "text": [
      "0             Amy White\n",
      "1          Jack Stewart\n",
      "2    Richard Lauderdale\n",
      "3          Sara Johnson\n",
      "dtype: object\n"
     ]
    }
   ],
   "source": [
    "employee_names=pd.Series(['Amy White','Jack Stewart','Richard Lauderdale','Sara Johnson'])\n",
    "\n",
    "print(employee_names)"
   ]
  },
  {
   "cell_type": "code",
   "execution_count": 12,
   "id": "e9fe2564",
   "metadata": {},
   "outputs": [],
   "source": [
    "work_experience_years = pd.Series([5,8,3,10])"
   ]
  },
  {
   "cell_type": "code",
   "execution_count": 13,
   "id": "d1e0275e",
   "metadata": {},
   "outputs": [
    {
     "data": {
      "text/plain": [
       "pandas.core.series.Series"
      ]
     },
     "execution_count": 13,
     "metadata": {},
     "output_type": "execute_result"
    }
   ],
   "source": [
    "type(work_experience_years)"
   ]
  },
  {
   "cell_type": "code",
   "execution_count": 20,
   "id": "94db0b2e",
   "metadata": {},
   "outputs": [
    {
     "data": {
      "text/plain": [
       "<bound method IndexOpsMixin.to_numpy of 0     5\n",
       "1     8\n",
       "2     3\n",
       "3    10\n",
       "dtype: int64>"
      ]
     },
     "execution_count": 20,
     "metadata": {},
     "output_type": "execute_result"
    }
   ],
   "source": [
    "work_experience_years.to_numpy"
   ]
  },
  {
   "cell_type": "code",
   "execution_count": 21,
   "id": "7fef3aed",
   "metadata": {},
   "outputs": [
    {
     "data": {
      "text/plain": [
       "<bound method IndexOpsMixin.to_numpy of 0     5\n",
       "1     8\n",
       "2     3\n",
       "3    10\n",
       "dtype: int64>"
      ]
     },
     "execution_count": 21,
     "metadata": {},
     "output_type": "execute_result"
    }
   ],
   "source": [
    "work_experience_years.to_numpy"
   ]
  },
  {
   "cell_type": "code",
   "execution_count": 18,
   "id": "7e2271a4",
   "metadata": {},
   "outputs": [
    {
     "data": {
      "text/plain": [
       "<bound method IndexOpsMixin.to_numpy of 0     5\n",
       "1     8\n",
       "2     3\n",
       "3    10\n",
       "dtype: int64>"
      ]
     },
     "execution_count": 18,
     "metadata": {},
     "output_type": "execute_result"
    }
   ],
   "source": [
    "work"
   ]
  },
  {
   "cell_type": "code",
   "execution_count": 19,
   "id": "1ea92362",
   "metadata": {},
   "outputs": [
    {
     "name": "stdout",
     "output_type": "stream",
     "text": [
      "<class 'method'>\n"
     ]
    }
   ],
   "source": [
    "print(type(work))"
   ]
  },
  {
   "cell_type": "code",
   "execution_count": 23,
   "id": "4fe2aa4d",
   "metadata": {},
   "outputs": [],
   "source": [
    "workers_work_experience={'Martin':8,'George':5}"
   ]
  },
  {
   "cell_type": "code",
   "execution_count": 25,
   "id": "1aee706c",
   "metadata": {},
   "outputs": [
    {
     "name": "stdout",
     "output_type": "stream",
     "text": [
      "Martin    8\n",
      "George    5\n",
      "Name: workers work experience, dtype: int64\n"
     ]
    }
   ],
   "source": [
    "\n",
    "employees_work_exp=pd.Series(workers_work_experience)\n",
    "employees_work_exp.name='workers work experience'\n",
    "print(employees_work_exp)"
   ]
  },
  {
   "cell_type": "code",
   "execution_count": 26,
   "id": "5f8ea781",
   "metadata": {},
   "outputs": [],
   "source": [
    "list_name=['Amy White','Jack Stewart','Richard Lauderdale','Sara Johnson']"
   ]
  },
  {
   "cell_type": "code",
   "execution_count": 30,
   "id": "120f3ad1",
   "metadata": {},
   "outputs": [],
   "source": [
    "name_ser=pd.Series(list_name,index=['a','b','c','d'])"
   ]
  },
  {
   "cell_type": "code",
   "execution_count": 31,
   "id": "0309be16",
   "metadata": {},
   "outputs": [
    {
     "data": {
      "text/plain": [
       "a             Amy White\n",
       "b          Jack Stewart\n",
       "c    Richard Lauderdale\n",
       "d          Sara Johnson\n",
       "dtype: object"
      ]
     },
     "execution_count": 31,
     "metadata": {},
     "output_type": "execute_result"
    }
   ],
   "source": [
    "name_ser"
   ]
  },
  {
   "cell_type": "code",
   "execution_count": 32,
   "id": "c7970932",
   "metadata": {},
   "outputs": [
    {
     "name": "stdout",
     "output_type": "stream",
     "text": [
      "                 Name  Age  Working Experience(Yrs.)\n",
      "0           Amy White   50                         5\n",
      "1        Jack Stewart   53                         8\n",
      "2  Richard Lauderdale   35                         3\n",
      "3        Sara Johnson   43                        10\n"
     ]
    }
   ],
   "source": [
    "import pandas as pd \n",
    "data={'Name':['Amy White','Jack Stewart','Richard Lauderdale','Sara Johnson'],'Age':[50,53,35,43],'Working Experience(Yrs.)':[5,8,3,10]}\n",
    "df=pd.DataFrame(data)\n",
    "print(df)"
   ]
  },
  {
   "cell_type": "code",
   "execution_count": 34,
   "id": "62cd2be5",
   "metadata": {},
   "outputs": [
    {
     "name": "stdout",
     "output_type": "stream",
     "text": [
      "                  Name  Age  Working Experience(Yrs.)\n",
      "0            Amy White   50                         5\n",
      "1         Jack Stewart   53                         8\n",
      "2  Richard Lauderdale    35                         3\n",
      "3         Sara Johnson   43                        10\n"
     ]
    }
   ],
   "source": [
    "import pandas as pd \n",
    "data=[{'Name':'Amy White','Age':50,'Working Experience(Yrs.)':5},\n",
    "      {'Name':'Jack Stewart','Age':53,'Working Experience(Yrs.)':8},\n",
    "      {'Name':'Richard Lauderdale ','Age':35,'Working Experience(Yrs.)':3},\n",
    "      {'Name':'Sara Johnson','Age':43,'Working Experience(Yrs.)':10}]\n",
    "      \n",
    "df=pd.DataFrame(data)\n",
    "print(df)"
   ]
  },
  {
   "cell_type": "code",
   "execution_count": null,
   "id": "0ffaa138",
   "metadata": {},
   "outputs": [],
   "source": []
  }
 ],
 "metadata": {
  "kernelspec": {
   "display_name": "Python 3 (ipykernel)",
   "language": "python",
   "name": "python3"
  },
  "language_info": {
   "codemirror_mode": {
    "name": "ipython",
    "version": 3
   },
   "file_extension": ".py",
   "mimetype": "text/x-python",
   "name": "python",
   "nbconvert_exporter": "python",
   "pygments_lexer": "ipython3",
   "version": "3.9.7"
  }
 },
 "nbformat": 4,
 "nbformat_minor": 5
}
