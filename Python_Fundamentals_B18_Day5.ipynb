{
 "cells": [
  {
   "cell_type": "code",
   "execution_count": 5,
   "metadata": {},
   "outputs": [
    {
     "name": "stdout",
     "output_type": "stream",
     "text": [
      "keep up the good work Malvika\n"
     ]
    }
   ],
   "source": [
    "my_students=['devi','naresh','satya','neha','viji','malvika','adil','amit','mahesh']\n",
    "print(f\"keep up the good work {my_students[5].title()\\n}\")"
   ]
  },
  {
   "cell_type": "code",
   "execution_count": null,
   "metadata": {},
   "outputs": [],
   "source": [
    "Looping"
   ]
  },
  {
   "cell_type": "code",
   "execution_count": 48,
   "metadata": {},
   "outputs": [
    {
     "name": "stdout",
     "output_type": "stream",
     "text": [
      "i\n",
      "\n",
      "i\n",
      "\n",
      "i\n",
      "\n",
      "i\n",
      "\n",
      "i\n",
      "\n",
      "i\n",
      "\n",
      "i\n",
      "\n",
      "i\n",
      "\n",
      "i\n",
      "\n"
     ]
    }
   ],
   "source": [
    "for i in my_students:\n",
    "    print(\"i\\n\")"
   ]
  },
  {
   "cell_type": "code",
   "execution_count": 33,
   "metadata": {},
   "outputs": [
    {
     "name": "stdout",
     "output_type": "stream",
     "text": [
      "devi\n",
      "\n",
      "naresh\n",
      "\n",
      "satya\n",
      "\n",
      "neha\n",
      "\n",
      "viji\n",
      "\n",
      "malvika\n",
      "\n",
      "adil\n",
      "\n",
      "amit\n",
      "\n",
      "mahesh\n",
      "\n"
     ]
    }
   ],
   "source": [
    "for i in my_students:\n",
    "    print(f\"{i}\\n\")"
   ]
  },
  {
   "cell_type": "code",
   "execution_count": null,
   "metadata": {},
   "outputs": [],
   "source": []
  },
  {
   "cell_type": "code",
   "execution_count": 31,
   "metadata": {},
   "outputs": [
    {
     "name": "stdout",
     "output_type": "stream",
     "text": [
      "i love Rose\n",
      "\n",
      "i love Lily\n",
      "\n",
      "i love Jasmine\n",
      "\n",
      "i love Lotus\n",
      "\n"
     ]
    }
   ],
   "source": [
    "flowers=['rose','lily','jasmine','lotus']\n",
    "for x in flowers:\n",
    "    print(f\"i love {x.title()}\\n\")\n",
    "\n"
   ]
  },
  {
   "cell_type": "code",
   "execution_count": 41,
   "metadata": {},
   "outputs": [
    {
     "name": "stdout",
     "output_type": "stream",
     "text": [
      "i love Rose than any other flowers\n",
      "\n",
      "i love Lily than any other flowers\n",
      "\n",
      "i love Jasmine than any other flowers\n",
      "\n",
      "i love Lotus than any other flowers\n",
      "\n"
     ]
    }
   ],
   "source": [
    "flowers=['rose','lily','jasmine','lotus']\n",
    "for x in flowers:\n",
    "    print(f\"i love {x.title()} than any other flowers\\n\")\n"
   ]
  },
  {
   "cell_type": "code",
   "execution_count": 37,
   "metadata": {},
   "outputs": [
    {
     "name": "stdout",
     "output_type": "stream",
     "text": [
      "keep up the good work Devi\n",
      "keep practising Devi\n",
      "\n",
      "keep up the good work Naresh\n",
      "keep practising Naresh\n",
      "\n",
      "keep up the good work Satya\n",
      "keep practising Satya\n",
      "\n",
      "keep up the good work Neha\n",
      "keep practising Neha\n",
      "\n",
      "keep up the good work Viji\n",
      "keep practising Viji\n",
      "\n",
      "keep up the good work Malvika\n",
      "keep practising Malvika\n",
      "\n",
      "keep up the good work Adil\n",
      "keep practising Adil\n",
      "\n",
      "keep up the good work Amit\n",
      "keep practising Amit\n",
      "\n",
      "keep up the good work Mahesh\n",
      "keep practising Mahesh\n",
      "\n"
     ]
    }
   ],
   "source": [
    "for i in my_students:\n",
    "    print(f\"keep up the good work {i.title()}\")\n",
    "    print(f\"keep practising {i.title()}\\n\")"
   ]
  },
  {
   "cell_type": "code",
   "execution_count": null,
   "metadata": {},
   "outputs": [],
   "source": [
    "Decision making"
   ]
  },
  {
   "cell_type": "code",
   "execution_count": 43,
   "metadata": {},
   "outputs": [
    {
     "name": "stdout",
     "output_type": "stream",
     "text": [
      "BJP symbol is not rose\n",
      "\n",
      "BJP symbol is not lily\n",
      "\n",
      "BJP symbol is not jasmine\n",
      "\n",
      "BJP symbol is Lotus\n",
      "\n"
     ]
    }
   ],
   "source": [
    "for a in flowers:\n",
    "    if a=='lotus':\n",
    "        print(f\"BJP symbol is {a.title()}\\n\")\n",
    "    else:\n",
    "        print(f\"BJP symbol is not {a}\\n\")"
   ]
  },
  {
   "cell_type": "code",
   "execution_count": 46,
   "metadata": {},
   "outputs": [
    {
     "name": "stdout",
     "output_type": "stream",
     "text": [
      "q is even\n"
     ]
    }
   ],
   "source": [
    "q=10\n",
    "if q%2==0:\n",
    "    print(\"q is even\")\n",
    "else:\n",
    "    print(\"q is not even\")"
   ]
  },
  {
   "cell_type": "code",
   "execution_count": null,
   "metadata": {},
   "outputs": [],
   "source": []
  },
  {
   "cell_type": "code",
   "execution_count": null,
   "metadata": {},
   "outputs": [],
   "source": []
  },
  {
   "cell_type": "code",
   "execution_count": null,
   "metadata": {},
   "outputs": [],
   "source": []
  }
 ],
 "metadata": {
  "kernelspec": {
   "display_name": "Python 3",
   "language": "python",
   "name": "python3"
  },
  "language_info": {
   "codemirror_mode": {
    "name": "ipython",
    "version": 3
   },
   "file_extension": ".py",
   "mimetype": "text/x-python",
   "name": "python",
   "nbconvert_exporter": "python",
   "pygments_lexer": "ipython3",
   "version": "3.7.6"
  }
 },
 "nbformat": 4,
 "nbformat_minor": 4
}
